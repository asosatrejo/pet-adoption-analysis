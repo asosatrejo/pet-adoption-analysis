{
 "cells": [
  {
   "cell_type": "code",
   "execution_count": 2,
   "id": "99f28af9",
   "metadata": {
    "collapsed": true
   },
   "outputs": [
    {
     "data": {
      "text/plain": [
       "' https://www.adoptapet.com/public/apis/pet_list.html\\n    https://www.petfinder.com/developers/'"
      ]
     },
     "execution_count": 2,
     "metadata": {},
     "output_type": "execute_result"
    }
   ],
   "source": [
    "#Dependencies\n",
    "import matplotlib.pyplot as plt\n",
    "import pandas as pd\n",
    "import numpy as np\n",
    "import requests\n",
    "import time\n",
    "from scipy.stats import linregress\n",
    "import scipy.stats as st\n",
    "import json\n",
    "from api_keys import petfinder_api_key\n",
    "from api_keys import petfinder_api_secret\n",
    "import petpy \n",
    "pf = petpy.Petfinder(key=petfinder_api_key, secret=petfinder_api_secret)\n"
   ]
  },
  {
   "cell_type": "code",
   "execution_count": null,
   "id": "34d75f3c",
   "metadata": {},
   "outputs": [],
   "source": [
    "Cats = pf.animals(animal_type='cat',location='NC',pages=4,results_per_page=100,after_date='2017-12-31',status='adopted',before_date='2022-1-2',return_df=True)\n",
    "Dogs = pf.animals(animal_type='dog',location='NC',pages=4,results_per_page=100,after_date='2017-12-31',status='adopted',before_date='2022-1-2',return_df=True)\n",
    "\n",
    "Cats"
   ]
  },
  {
   "cell_type": "code",
   "execution_count": null,
   "id": "75ab99c0",
   "metadata": {},
   "outputs": [],
   "source": [
    "#This is your template, it won't be needed for the final product\n",
    "#However in order to best use it You will have to make multiple data frames for each age, there will be a pie chart for adopted then another for adoptable\n",
    "#['status'].count()\n",
    "Adopts = Cats.query(\"status == 'adopted'\").groupby('age')\n",
    "AdoptCounts = pd.DataFrame(Adopts['status'].count())\n",
    "AdoptCounts.plot(kind='pie',figsize=(7,4),y='status',title=\"Cats by age\",startangle=160,autopct='%1.1f%%',shadow=True,colors=[\"orange\",\"darkblue\",\"pink\",\"red\"],legend=True)\n",
    "plt.axis('equal')\n",
    "plt.show()"
   ]
  },
  {
   "cell_type": "code",
   "execution_count": null,
   "id": "0f2d47b5",
   "metadata": {},
   "outputs": [],
   "source": [
    "Adopts = Dogs.query(\"status == 'adopted'\").groupby('age')\n",
    "AdoptCounts = pd.DataFrame(Adopts['status'].count())\n",
    "AdoptCounts.plot(kind='pie',figsize=(7,4),y='status',title=\"Dogs by age\",startangle=160,autopct='%1.1f%%',shadow=True,colors=[\"orange\",\"darkblue\",\"pink\",\"red\"],legend=True)\n",
    "plt.axis('equal')\n",
    "plt.show()"
   ]
  },
  {
   "cell_type": "code",
   "execution_count": null,
   "id": "14ab385e",
   "metadata": {},
   "outputs": [],
   "source": [
    "Adopts = Cats.groupby('size')\n",
    "AdoptCounts = pd.DataFrame(Adopts['status'].count())\n",
    "AdoptCounts.plot(kind='pie',figsize=(7,4),y='status',title=\"Cats by size\",startangle=160,autopct='%1.1f%%',shadow=True,colors=[\"orange\",\"darkblue\",\"pink\",\"red\"],legend=False)\n",
    "plt.axis('equal')\n",
    "plt.show()"
   ]
  },
  {
   "cell_type": "code",
   "execution_count": null,
   "id": "ddae1595",
   "metadata": {},
   "outputs": [],
   "source": [
    "Adopts = Dogs.groupby('size')\n",
    "AdoptCounts = pd.DataFrame(Adopts['status'].count())\n",
    "AdoptCounts.plot(kind='pie',figsize=(7,4),y='status',title=\"Dogs by size\",startangle=160,autopct='%1.1f%%',shadow=True,colors=[\"orange\",\"darkblue\",\"pink\",\"red\"],legend=False)\n",
    "plt.axis('equal')\n",
    "plt.show()"
   ]
  },
  {
   "cell_type": "code",
   "execution_count": null,
   "id": "2345f27e",
   "metadata": {},
   "outputs": [],
   "source": [
    "Adopts = Cats.groupby('gender')\n",
    "AdoptCounts = pd.DataFrame(Adopts['status'].count())\n",
    "AdoptCounts.plot(kind='pie',figsize=(7,4),y='status',title=\"Cats by gender\",startangle=160,autopct='%1.1f%%',shadow=True,colors=[\"orange\",\"darkblue\"],legend=False)\n",
    "plt.axis('equal')\n",
    "plt.show()"
   ]
  },
  {
   "cell_type": "code",
   "execution_count": null,
   "id": "f4b8355f",
   "metadata": {},
   "outputs": [],
   "source": [
    "Adopts = Dogs.groupby('gender')\n",
    "AdoptCounts = pd.DataFrame(Adopts['status'].count())\n",
    "AdoptCounts.plot(kind='pie',figsize=(7,4),y='status',title=\"Dogs by gender\",startangle=160,autopct='%1.1f%%',shadow=True,colors=[\"orange\",\"darkblue\"],legend=False)\n",
    "plt.axis('equal')\n",
    "plt.show()"
   ]
  }
 ],
 "metadata": {
  "kernelspec": {
   "display_name": "Python 3 (ipykernel)",
   "language": "python",
   "name": "python3"
  },
  "language_info": {
   "codemirror_mode": {
    "name": "ipython",
    "version": 3
   },
   "file_extension": ".py",
   "mimetype": "text/x-python",
   "name": "python",
   "nbconvert_exporter": "python",
   "pygments_lexer": "ipython3",
   "version": "3.10.9"
  }
 },
 "nbformat": 4,
 "nbformat_minor": 5
}
