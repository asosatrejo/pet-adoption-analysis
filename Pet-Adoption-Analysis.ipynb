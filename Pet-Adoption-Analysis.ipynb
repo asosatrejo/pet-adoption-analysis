{
 "cells": [
  {
   "cell_type": "markdown",
   "id": "df85af51",
   "metadata": {},
   "source": [
    "# Pet Adoption Analysis\n",
    "### Main Question:\n",
    "How can we increase the overall adoption rate of cats & dogs in North Carolina?"
   ]
  },
  {
   "cell_type": "code",
   "execution_count": 2,
   "id": "99f28af9",
   "metadata": {},
   "outputs": [
    {
     "data": {
      "text/plain": [
       "' https://www.adoptapet.com/public/apis/pet_list.html\\n    https://www.petfinder.com/developers/'"
      ]
     },
     "execution_count": 2,
     "metadata": {},
     "output_type": "execute_result"
    }
   ],
   "source": [
    "import requests\n",
    "import pandas as pd\n",
    "from matplotlib import pyplot as plt\n",
    "\n",
    "#if we need an api key, we can use the following:\n",
    "'''from config import api_key'''\n",
    "\n",
    "#Call to APIs\n",
    "''' https://www.adoptapet.com/public/apis/pet_list.html\n",
    "    https://www.petfinder.com/developers/'''\n",
    "\n",
    "\n"
   ]
  },
  {
   "cell_type": "code",
   "execution_count": null,
   "id": "9345cf95",
   "metadata": {},
   "outputs": [],
   "source": []
  }
 ],
 "metadata": {
  "kernelspec": {
   "display_name": "Python 3 (ipykernel)",
   "language": "python",
   "name": "python3"
  },
  "language_info": {
   "codemirror_mode": {
    "name": "ipython",
    "version": 3
   },
   "file_extension": ".py",
   "mimetype": "text/x-python",
   "name": "python",
   "nbconvert_exporter": "python",
   "pygments_lexer": "ipython3",
   "version": "3.10.11"
  }
 },
 "nbformat": 4,
 "nbformat_minor": 5
}
