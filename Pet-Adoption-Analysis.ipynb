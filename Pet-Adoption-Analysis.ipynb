{
 "cells": [
  {
   "cell_type": "markdown",
   "id": "df85af51",
   "metadata": {},
   "source": [
    "# Pet Adoption Analysis\n",
    "### Main Question:\n",
    "How can we increase the overall adoption rate of cats & dogs in North Carolina?"
   ]
  },
  {
   "cell_type": "markdown",
   "id": "436d0e85",
   "metadata": {},
   "source": [
    "## Our Goal\n",
    "We aim to increase the number of dogs & cats being adopted within North Carolina. To accomplish our goal, first, we must recognize what factors affect adoption rates. We will look at the pets, the shelters, and the areas to determine whether any significant data can be determined. After analyzing, we will conclude with our findings whether there are any pets that are being ignored, if a shelter has any shortcomings, or if specific areas, in general, affect the adoption rates. "
   ]
  },
  {
   "cell_type": "code",
   "execution_count": 2,
   "id": "99f28af9",
   "metadata": {},
   "outputs": [
    {
     "data": {
      "text/plain": [
       "' https://www.adoptapet.com/public/apis/pet_list.html\\n    https://www.petfinder.com/developers/'"
      ]
     },
     "execution_count": 2,
     "metadata": {},
     "output_type": "execute_result"
    }
   ],
   "source": [
    "import requests\n",
    "import pandas as pd\n",
    "from matplotlib import pyplot as plt\n",
    "\n",
    "#if we need an api key, we can use the following:\n",
    "'''from config import api_key'''\n",
    "\n",
    "#Call to APIs\n",
    "''' https://www.adoptapet.com/public/apis/pet_list.html\n",
    "    https://www.petfinder.com/developers/'''\n",
    "\n",
    "\n"
   ]
  },
  {
   "cell_type": "markdown",
   "id": "bd8933b7",
   "metadata": {},
   "source": [
    "## Question 1: (Why) Do certain shelters have a higher/lower rate of adoption?"
   ]
  },
  {
   "cell_type": "markdown",
   "id": "bc1ad331",
   "metadata": {},
   "source": [
    "## Question 2: Is a certain type (age, size, gender, etc) of dog/cat more/less likely to be adopted?"
   ]
  },
  {
   "cell_type": "markdown",
   "id": "9c6e18ff",
   "metadata": {},
   "source": [
    "## Question 3: Does a certain area (location) have higher/lower adoption rates?"
   ]
  },
  {
   "cell_type": "code",
   "execution_count": null,
   "id": "34d75f3c",
   "metadata": {},
   "outputs": [],
   "source": []
  }
 ],
 "metadata": {
  "kernelspec": {
   "display_name": "Python 3 (ipykernel)",
   "language": "python",
   "name": "python3"
  },
  "language_info": {
   "codemirror_mode": {
    "name": "ipython",
    "version": 3
   },
   "file_extension": ".py",
   "mimetype": "text/x-python",
   "name": "python",
   "nbconvert_exporter": "python",
   "pygments_lexer": "ipython3",
   "version": "3.10.11"
  }
 },
 "nbformat": 4,
 "nbformat_minor": 5
}
