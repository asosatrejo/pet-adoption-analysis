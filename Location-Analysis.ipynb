{
 "cells": [
  {
   "cell_type": "markdown",
   "id": "b0fc7f16",
   "metadata": {},
   "source": [
    "# Does a certain area (location) have higher/lower adoption rates?"
   ]
  },
  {
   "cell_type": "code",
   "execution_count": 6,
   "id": "2aedec32",
   "metadata": {},
   "outputs": [],
   "source": [
    "import pandas as pd\n",
    "import requests\n",
    "import petpy\n",
    "from matplotlib import pyplot as plt\n",
    "from config import api_key as api_key\n",
    "from config import api_secret as api_secret"
   ]
  },
  {
   "cell_type": "markdown",
   "id": "87e37802",
   "metadata": {},
   "source": [
    "## Retrive data from APIs\n",
    "\n",
    "**API/Resources:**\n",
    "- [Adopt a Pet API](https://www.adoptapet.com/public/apis/pet_list.html)\n",
    "- [Pet Finder API](https://www.petfinder.com/developers/)\n"
   ]
  },
  {
   "cell_type": "code",
   "execution_count": 9,
   "id": "c2ca2e6f",
   "metadata": {},
   "outputs": [
    {
     "data": {
      "text/html": [
       "<div>\n",
       "<style scoped>\n",
       "    .dataframe tbody tr th:only-of-type {\n",
       "        vertical-align: middle;\n",
       "    }\n",
       "\n",
       "    .dataframe tbody tr th {\n",
       "        vertical-align: top;\n",
       "    }\n",
       "\n",
       "    .dataframe thead th {\n",
       "        text-align: right;\n",
       "    }\n",
       "</style>\n",
       "<table border=\"1\" class=\"dataframe\">\n",
       "  <thead>\n",
       "    <tr style=\"text-align: right;\">\n",
       "      <th></th>\n",
       "      <th>organizations</th>\n",
       "    </tr>\n",
       "  </thead>\n",
       "  <tbody>\n",
       "    <tr>\n",
       "      <th>0</th>\n",
       "      <td>{'id': 'NC1113', 'name': 'Angela's Ark', 'emai...</td>\n",
       "    </tr>\n",
       "    <tr>\n",
       "      <th>1</th>\n",
       "      <td>{'id': 'NC1037', 'name': 'Yahweh's Heart', 'em...</td>\n",
       "    </tr>\n",
       "    <tr>\n",
       "      <th>2</th>\n",
       "      <td>{'id': 'NC1102', 'name': 'Snow Camp Sanctuary'...</td>\n",
       "    </tr>\n",
       "    <tr>\n",
       "      <th>3</th>\n",
       "      <td>{'id': 'NC1070', 'name': 'Adoptions Ever After...</td>\n",
       "    </tr>\n",
       "    <tr>\n",
       "      <th>4</th>\n",
       "      <td>{'id': 'NC1079', 'name': 'Freedom Unchained in...</td>\n",
       "    </tr>\n",
       "  </tbody>\n",
       "</table>\n",
       "</div>"
      ],
      "text/plain": [
       "                                       organizations\n",
       "0  {'id': 'NC1113', 'name': 'Angela's Ark', 'emai...\n",
       "1  {'id': 'NC1037', 'name': 'Yahweh's Heart', 'em...\n",
       "2  {'id': 'NC1102', 'name': 'Snow Camp Sanctuary'...\n",
       "3  {'id': 'NC1070', 'name': 'Adoptions Ever After...\n",
       "4  {'id': 'NC1079', 'name': 'Freedom Unchained in..."
      ]
     },
     "execution_count": 9,
     "metadata": {},
     "output_type": "execute_result"
    }
   ],
   "source": [
    "pf = petpy.Petfinder(key=api_key, secret=api_secret)\n",
    "\n",
    "nc_organizations = pf.organizations(state = 'NC')\n",
    "nc_organizations_df = pd.DataFrame(nc_organizations)\n",
    "nc_organizations_df.head()"
   ]
  }
 ],
 "metadata": {
  "kernelspec": {
   "display_name": "Python 3 (ipykernel)",
   "language": "python",
   "name": "python3"
  },
  "language_info": {
   "codemirror_mode": {
    "name": "ipython",
    "version": 3
   },
   "file_extension": ".py",
   "mimetype": "text/x-python",
   "name": "python",
   "nbconvert_exporter": "python",
   "pygments_lexer": "ipython3",
   "version": "3.10.11"
  }
 },
 "nbformat": 4,
 "nbformat_minor": 5
}
