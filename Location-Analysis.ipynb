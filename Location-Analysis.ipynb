{
 "cells": [
  {
   "cell_type": "markdown",
   "id": "b0fc7f16",
   "metadata": {},
   "source": [
    "# Does a certain area (location) have higher/lower adoption rates?"
   ]
  },
  {
   "cell_type": "code",
   "execution_count": 1,
   "id": "2aedec32",
   "metadata": {},
   "outputs": [],
   "source": [
    "import pandas as pd\n",
    "import numpy as np\n",
    "import requests\n",
    "import petpy\n",
    "import pprint\n",
    "\n",
    "from matplotlib import pyplot as plt\n",
    "from config import api_key as api_key\n",
    "from config import api_secret as api_secret"
   ]
  },
  {
   "cell_type": "markdown",
   "id": "87e37802",
   "metadata": {},
   "source": [
    "## Retrive data from APIs\n",
    "\n",
    "**API/Resources:**\n",
    "- [Adopt a Pet API](https://www.adoptapet.com/public/apis/pet_list.html)\n",
    "- [Pet Finder API](https://www.petfinder.com/developers/)\n"
   ]
  },
  {
   "cell_type": "code",
   "execution_count": 2,
   "id": "611dd881",
   "metadata": {},
   "outputs": [],
   "source": [
    "pf = petpy.Petfinder(key=api_key, secret=api_secret)"
   ]
  },
  {
   "cell_type": "code",
   "execution_count": 3,
   "id": "24e4a8ff",
   "metadata": {},
   "outputs": [
    {
     "name": "stdout",
     "output_type": "stream",
     "text": [
      "Adoptable dogs: 282\n",
      "Adoptable cats: 335\n"
     ]
    }
   ],
   "source": [
    "#2018 - 2023 adoptable dogs\n",
    "adoptable_dogs = pf.animals(animal_type = 'dog', status='adoptable', location='NC', pages=None, sort='recent', after_date='2017-12-31', before_date='2022-01-01', results_per_page=100, return_df=True)\n",
    "print('Adoptable dogs: '+ str(len(adoptable_dogs['id'].unique())))\n",
    "\n",
    "#2018 - 2023 adoptable cats\n",
    "adoptable_cats = pf.animals(animal_type = 'cat', status='adoptable', location='NC', pages=None, sort='recent', after_date='2017-12-31', before_date='2022-01-01', results_per_page=100, return_df=True)\n",
    "print('Adoptable cats: '+ str(len(adoptable_cats['id'].unique())))"
   ]
  },
  {
   "cell_type": "code",
   "execution_count": 5,
   "id": "fc27e089",
   "metadata": {},
   "outputs": [],
   "source": [
    "#Clean Data\n",
    "to_drop = ['url', 'species', 'age', 'gender', 'size', 'coat', 'tags', \n",
    "           'animal_id', 'animal_type', 'primary_photo_cropped', 'photos', \n",
    "           'videos', 'primary_photo_cropped.full', 'primary_photo_cropped.large', \n",
    "           'primary_photo_cropped.small', 'primary_photo_cropped.medium','name', \n",
    "           'description', 'organization_animal_id', 'contact.email', 'contact.phone', \n",
    "           'breeds.primary', 'breeds.secondary', 'breeds.mixed', 'breeds.unknown',\n",
    "           'colors.primary', 'colors.secondary', 'colors.tertiary',\n",
    "           'attributes.spayed_neutered', 'attributes.declawed', 'attributes.special_needs',\n",
    "           'attributes.shots_current', 'attributes.house_trained',\n",
    "           'environment.children', 'environment.dogs', 'environment.cats']\n",
    "\n",
    "adoptable_dogs.drop(to_drop, inplace = True, axis=1)\n",
    "adoptable_cats.drop(to_drop, inplace = True, axis=1)\n"
   ]
  },
  {
   "cell_type": "code",
   "execution_count": 6,
   "id": "9b3ddff7",
   "metadata": {},
   "outputs": [
    {
     "name": "stdout",
     "output_type": "stream",
     "text": [
      "         ID Organization ID Type     Status            Status Changed  \\\n",
      "0  54050425           SC170  Dog  adoptable  2021-12-30T02:22:21+0000   \n",
      "1  54045877            NC11  Dog  adoptable  2022-12-01T17:16:46+0000   \n",
      "2  54031867           NC419  Dog  adoptable  2022-03-07T17:20:52+0000   \n",
      "3  54022085          NC1172  Dog  adoptable  2021-12-27T20:21:46+0000   \n",
      "4  54005089           NC698  Dog  adoptable  2021-12-24T20:42:08+0000   \n",
      "\n",
      "                  Published  Distance          Address 1  \\\n",
      "0  2021-12-30T02:22:21+0000   83.3665  1705 Adoption Way   \n",
      "1  2021-12-29T19:47:02+0000   95.3447        PO Box 1884   \n",
      "2  2021-12-28T17:13:33+0000   81.6870               None   \n",
      "3  2021-12-27T20:21:46+0000   49.6520               None   \n",
      "4  2021-12-24T20:42:02+0000   90.9259        PO Box 2746   \n",
      "\n",
      "                              Address 2         City State Zip Code Country  \n",
      "0                                  None   Darlington    SC    29532      US  \n",
      "1  Adoption Center at 417 Kirksey Drive    Morganton    NC    28655      US  \n",
      "2                                  None      Raleigh    NC    27619      US  \n",
      "3                                  None  Mooresville    NC    28117      US  \n",
      "4                                  None       Lenoir    NC    28645      US  \n"
     ]
    },
    {
     "data": {
      "text/html": [
       "<div>\n",
       "<style scoped>\n",
       "    .dataframe tbody tr th:only-of-type {\n",
       "        vertical-align: middle;\n",
       "    }\n",
       "\n",
       "    .dataframe tbody tr th {\n",
       "        vertical-align: top;\n",
       "    }\n",
       "\n",
       "    .dataframe thead th {\n",
       "        text-align: right;\n",
       "    }\n",
       "</style>\n",
       "<table border=\"1\" class=\"dataframe\">\n",
       "  <thead>\n",
       "    <tr style=\"text-align: right;\">\n",
       "      <th></th>\n",
       "      <th>ID</th>\n",
       "      <th>Organization ID</th>\n",
       "      <th>Type</th>\n",
       "      <th>Status</th>\n",
       "      <th>Status Changed</th>\n",
       "      <th>Published</th>\n",
       "      <th>Distance</th>\n",
       "      <th>Address 1</th>\n",
       "      <th>Address 2</th>\n",
       "      <th>City</th>\n",
       "      <th>State</th>\n",
       "      <th>Zip Code</th>\n",
       "      <th>Country</th>\n",
       "    </tr>\n",
       "  </thead>\n",
       "  <tbody>\n",
       "    <tr>\n",
       "      <th>0</th>\n",
       "      <td>54071180</td>\n",
       "      <td>VA609</td>\n",
       "      <td>Cat</td>\n",
       "      <td>adoptable</td>\n",
       "      <td>2022-01-01T02:29:03+0000</td>\n",
       "      <td>2022-01-01T02:29:03+0000</td>\n",
       "      <td>79.8959</td>\n",
       "      <td>None</td>\n",
       "      <td>None</td>\n",
       "      <td>Stuart</td>\n",
       "      <td>VA</td>\n",
       "      <td>24171</td>\n",
       "      <td>US</td>\n",
       "    </tr>\n",
       "    <tr>\n",
       "      <th>1</th>\n",
       "      <td>53995527</td>\n",
       "      <td>NC1111</td>\n",
       "      <td>Cat</td>\n",
       "      <td>adoptable</td>\n",
       "      <td>2021-12-23T18:36:30+0000</td>\n",
       "      <td>2021-12-23T18:36:28+0000</td>\n",
       "      <td>85.1958</td>\n",
       "      <td>None</td>\n",
       "      <td>None</td>\n",
       "      <td>Raleigh</td>\n",
       "      <td>NC</td>\n",
       "      <td>27616</td>\n",
       "      <td>US</td>\n",
       "    </tr>\n",
       "    <tr>\n",
       "      <th>2</th>\n",
       "      <td>53995421</td>\n",
       "      <td>NC1111</td>\n",
       "      <td>Cat</td>\n",
       "      <td>adoptable</td>\n",
       "      <td>2021-12-23T18:22:53+0000</td>\n",
       "      <td>2021-12-23T18:22:50+0000</td>\n",
       "      <td>85.1958</td>\n",
       "      <td>None</td>\n",
       "      <td>None</td>\n",
       "      <td>Raleigh</td>\n",
       "      <td>NC</td>\n",
       "      <td>27616</td>\n",
       "      <td>US</td>\n",
       "    </tr>\n",
       "    <tr>\n",
       "      <th>3</th>\n",
       "      <td>53951752</td>\n",
       "      <td>NC929</td>\n",
       "      <td>Cat</td>\n",
       "      <td>adoptable</td>\n",
       "      <td>2021-12-19T14:59:27+0000</td>\n",
       "      <td>2021-12-19T14:59:27+0000</td>\n",
       "      <td>51.7933</td>\n",
       "      <td>None</td>\n",
       "      <td>None</td>\n",
       "      <td>Burlington</td>\n",
       "      <td>NC</td>\n",
       "      <td>27215</td>\n",
       "      <td>US</td>\n",
       "    </tr>\n",
       "    <tr>\n",
       "      <th>4</th>\n",
       "      <td>53890155</td>\n",
       "      <td>NC1070</td>\n",
       "      <td>Cat</td>\n",
       "      <td>adoptable</td>\n",
       "      <td>2021-12-13T20:39:24+0000</td>\n",
       "      <td>2021-12-13T20:39:24+0000</td>\n",
       "      <td>57.8536</td>\n",
       "      <td>None</td>\n",
       "      <td>None</td>\n",
       "      <td>Pineville</td>\n",
       "      <td>NC</td>\n",
       "      <td>28134</td>\n",
       "      <td>US</td>\n",
       "    </tr>\n",
       "  </tbody>\n",
       "</table>\n",
       "</div>"
      ],
      "text/plain": [
       "         ID Organization ID Type     Status            Status Changed  \\\n",
       "0  54071180           VA609  Cat  adoptable  2022-01-01T02:29:03+0000   \n",
       "1  53995527          NC1111  Cat  adoptable  2021-12-23T18:36:30+0000   \n",
       "2  53995421          NC1111  Cat  adoptable  2021-12-23T18:22:53+0000   \n",
       "3  53951752           NC929  Cat  adoptable  2021-12-19T14:59:27+0000   \n",
       "4  53890155          NC1070  Cat  adoptable  2021-12-13T20:39:24+0000   \n",
       "\n",
       "                  Published  Distance Address 1 Address 2        City State  \\\n",
       "0  2022-01-01T02:29:03+0000   79.8959      None      None      Stuart    VA   \n",
       "1  2021-12-23T18:36:28+0000   85.1958      None      None     Raleigh    NC   \n",
       "2  2021-12-23T18:22:50+0000   85.1958      None      None     Raleigh    NC   \n",
       "3  2021-12-19T14:59:27+0000   51.7933      None      None  Burlington    NC   \n",
       "4  2021-12-13T20:39:24+0000   57.8536      None      None   Pineville    NC   \n",
       "\n",
       "  Zip Code Country  \n",
       "0    24171      US  \n",
       "1    27616      US  \n",
       "2    27616      US  \n",
       "3    27215      US  \n",
       "4    28134      US  "
      ]
     },
     "execution_count": 6,
     "metadata": {},
     "output_type": "execute_result"
    }
   ],
   "source": [
    "#Drop last column - duplicate organization ID\n",
    "adoptable_dogs_clean = adoptable_dogs.iloc[: , :-1]\n",
    "adoptable_cats_clean = adoptable_cats.iloc[: , :-1]\n",
    "\n",
    "#Rename Columns\n",
    "new_columns = {\n",
    "    'id':'ID',\n",
    "    'organization_id':'Organization ID',\n",
    "    'type':'Type',\n",
    "    'status':'Status',\n",
    "    'status_changed_at':'Status Changed',\n",
    "    'published_at':'Published',\n",
    "    'distance':'Distance',\n",
    "    'contact.address.address1':'Address 1',\n",
    "    'contact.address.address2':'Address 2',\n",
    "    'contact.address.city':'City',\n",
    "    'contact.address.state':'State',\n",
    "    'contact.address.postcode':'Zip Code',\n",
    "    'contact.address.country':'Country'\n",
    "}\n",
    "\n",
    "adoptable_dogs_clean.rename(columns=new_columns, inplace=True)\n",
    "adoptable_cats_clean.rename(columns=new_columns, inplace=True)\n",
    "\n",
    "#Print New DFs\n",
    "print(adoptable_dogs_clean.head())\n",
    "adoptable_cats_clean.head()"
   ]
  },
  {
   "cell_type": "code",
   "execution_count": 10,
   "id": "ece44972",
   "metadata": {},
   "outputs": [
    {
     "data": {
      "text/plain": [
       "Raleigh          32\n",
       "Charlotte        15\n",
       "Holly Springs    12\n",
       "Monroe           10\n",
       "Thomasville      10\n",
       "Lenoir           10\n",
       "Mooresville       8\n",
       "Albemarle         8\n",
       "Staley            8\n",
       "Winston Salem     7\n",
       "Sanford           6\n",
       "Waxhaw            5\n",
       "Shelby            5\n",
       "Snow Camp         5\n",
       "Morganton         4\n",
       "Matthews          4\n",
       "Pineville         3\n",
       "Siler City        3\n",
       "Conover           3\n",
       "Carthage          2\n",
       "Greensboro        2\n",
       "Youngsville       2\n",
       "Selma             2\n",
       "Chapel Hill       2\n",
       "Elizabethtown     2\n",
       "Cary              2\n",
       "Mount Airy        2\n",
       "Claremont         2\n",
       "Vass              2\n",
       "Smithfield        2\n",
       "Dunn              2\n",
       "Rougemont         1\n",
       "Franklinton       1\n",
       "Locust            1\n",
       "Huntersville      1\n",
       "Fayetteville      1\n",
       "Kannapolis        1\n",
       "Sophia            1\n",
       "Walnut Cove       1\n",
       "Mint Hill         1\n",
       "Durham            1\n",
       "Bahama            1\n",
       "Whitsett          1\n",
       "Julian            1\n",
       "Concord           1\n",
       "Garner            1\n",
       "Pittsboro         1\n",
       "Maiden            1\n",
       "Name: City, dtype: int64"
      ]
     },
     "execution_count": 10,
     "metadata": {},
     "output_type": "execute_result"
    }
   ],
   "source": [
    "#Adoptable Dogs in NC from 2018 - 2022\n",
    "adoptable_dogs_nc = adoptable_dogs_clean.loc[adoptable_dogs_clean['State'] == 'NC']\n",
    "adoptable_dogs_nc['City'].value_counts()"
   ]
  },
  {
   "cell_type": "code",
   "execution_count": 14,
   "id": "280dc3a7",
   "metadata": {},
   "outputs": [
    {
     "data": {
      "text/plain": [
       "NC183     21\n",
       "NC457     12\n",
       "NC1022    10\n",
       "NC698     10\n",
       "NC626     10\n",
       "          ..\n",
       "NC1152     1\n",
       "NC150      1\n",
       "WV178      1\n",
       "NC975      1\n",
       "VA761      1\n",
       "Name: Organization ID, Length: 68, dtype: int64"
      ]
     },
     "execution_count": 14,
     "metadata": {},
     "output_type": "execute_result"
    }
   ],
   "source": [
    "adoptable_dogs_nc['Organization ID'].value_counts()"
   ]
  },
  {
   "cell_type": "code",
   "execution_count": null,
   "id": "61bf233e",
   "metadata": {},
   "outputs": [],
   "source": [
    "#Bar Graph of 5+ adoptable dogs in NC Cities"
   ]
  },
  {
   "cell_type": "code",
   "execution_count": 11,
   "id": "601f362b",
   "metadata": {},
   "outputs": [
    {
     "data": {
      "text/plain": [
       "Pittsboro        89\n",
       "Burlington       27\n",
       "Greensboro       25\n",
       "Raleigh          18\n",
       "Vass             13\n",
       "Carthage         12\n",
       "Charlotte         9\n",
       "Salisbury         8\n",
       "Apex              7\n",
       "Morganton         7\n",
       "Youngsville       6\n",
       "Winston-Salem     6\n",
       "Cary              5\n",
       "Liberty           5\n",
       "Albemarle         5\n",
       "Fayetteville      4\n",
       "Toast             3\n",
       "Statesville       3\n",
       "Lincolnton        3\n",
       "Lexington         3\n",
       "Smithfield        3\n",
       "Garner            3\n",
       "Pineville         2\n",
       "Concord           2\n",
       "Rockingham        2\n",
       "Zebulon           2\n",
       "Selma             2\n",
       "Thomasville       1\n",
       "Trinity           1\n",
       "Mint Hill         1\n",
       "Indian Trail      1\n",
       "Oakboro           1\n",
       "Dunn              1\n",
       "Conover           1\n",
       "Name: City, dtype: int64"
      ]
     },
     "execution_count": 11,
     "metadata": {},
     "output_type": "execute_result"
    }
   ],
   "source": [
    "#Adoptable Cats in NC from 2018 - 2022\n",
    "adoptable_cats_nc = adoptable_cats_clean.loc[adoptable_cats_clean['State'] == 'NC']\n",
    "adoptable_cats_nc['City'].value_counts()"
   ]
  },
  {
   "cell_type": "code",
   "execution_count": 15,
   "id": "3eb57866",
   "metadata": {},
   "outputs": [
    {
     "data": {
      "text/plain": [
       "NC552     82\n",
       "NC929     26\n",
       "NC1019    13\n",
       "NC107     10\n",
       "NC1111     9\n",
       "NC936      8\n",
       "NC519      8\n",
       "NC1057     7\n",
       "NC1016     7\n",
       "NC21       7\n",
       "NC915      7\n",
       "NC72       7\n",
       "NC626      6\n",
       "NC776      6\n",
       "NC518      5\n",
       "NC399      5\n",
       "NC1109     4\n",
       "NC591      4\n",
       "NC1025     3\n",
       "NC1020     3\n",
       "NC1142     3\n",
       "NC1122     3\n",
       "NC548      3\n",
       "NC122      3\n",
       "NC422      3\n",
       "NC1156     3\n",
       "NC631      3\n",
       "NC1071     2\n",
       "NC1149     2\n",
       "NC282      2\n",
       "NC1070     2\n",
       "NC87       2\n",
       "NC979      2\n",
       "NC661      2\n",
       "NC82       2\n",
       "NC697      1\n",
       "NC773      1\n",
       "NC851      1\n",
       "NC840      1\n",
       "NC103      1\n",
       "NC210      1\n",
       "NC1106     1\n",
       "NC986      1\n",
       "NC88       1\n",
       "NC419      1\n",
       "NC854      1\n",
       "NC1078     1\n",
       "NC65       1\n",
       "NC1174     1\n",
       "NC880      1\n",
       "NC1005     1\n",
       "NC757      1\n",
       "Name: Organization ID, dtype: int64"
      ]
     },
     "execution_count": 15,
     "metadata": {},
     "output_type": "execute_result"
    }
   ],
   "source": [
    "adoptable_cats_nc['Organization ID'].value_counts()"
   ]
  },
  {
   "cell_type": "code",
   "execution_count": null,
   "id": "b792e13c",
   "metadata": {},
   "outputs": [],
   "source": [
    "#Bar Graph of 5+ adoptable dogs in NC Cities"
   ]
  },
  {
   "cell_type": "code",
   "execution_count": 13,
   "id": "def0a3e6",
   "metadata": {},
   "outputs": [
    {
     "data": {
      "text/plain": [
       "\"adoptable_cats_nc = adoptable_cats_clean.loc[adoptable_cats_clean['State'] == 'NC']\\nadoptable_cats_nc['City'].value_counts()\""
      ]
     },
     "execution_count": 13,
     "metadata": {},
     "output_type": "execute_result"
    }
   ],
   "source": [
    "#Adoptable Cats & Dogs in NC from 2018 - 2022\n",
    "adoptable_cats_dogs = pd.merge(adoptable_cats_nc, adoptable_dogs_nc, on='Status')\n",
    "adoptable_cats_dogs.head()\n",
    "\n",
    "'''adoptable_cats_nc = adoptable_cats_clean.loc[adoptable_cats_clean['State'] == 'NC']\n",
    "adoptable_cats_nc['City'].value_counts()'''"
   ]
  },
  {
   "cell_type": "code",
   "execution_count": null,
   "id": "c2ca2e6f",
   "metadata": {},
   "outputs": [],
   "source": [
    "\n",
    "\n",
    "#Data Frame of only NC organizations\n",
    "nc_organizations_df = pf.organizations(state = 'NC', return_df=True)\n",
    "\n",
    "\n",
    "#CLean DataFrame\n",
    "to_drop = ['email', 'phone', 'url', 'photos', 'distance', 'organization_id','address.address2','address.country']\n",
    "nc_organizations_df.drop(to_drop, inplace = True, axis=1)\n",
    "\n",
    "\n",
    "#Rename Columns\n",
    "new_columns = {\n",
    "    'name': 'Name',\n",
    "    'website': 'Website',\n",
    "    'mission_statement':'Misson Statement',\n",
    "    'address.address1': 'Address',\n",
    "    'address.city':'City',\n",
    "    'address.state':'State',\n",
    "    'address.postcode':'Zip',\n",
    "    'hours.friday':'Friday',\n",
    "    'hours.saturday':'Saturday',\n",
    "    'hours.sunday':'Sunday',\n",
    "    'adoption.policy':'Adoption Policy',\n",
    "    'adoption.url':'Adoption URL',\n",
    "    'social_media.facebook':'Facebook',\n",
    "    'social_media.twitter':'Twitter',\n",
    "    'social_media.youtube':'YouTube',\n",
    "    'social_media.instagram':'Instagram',\n",
    "    'social_media.pinterest':'Pinterest'\n",
    "}\n",
    "nc_organizations_df.rename(columns=new_columns, inplace=True)\n",
    "nc_organizations_df = nc_organizations_df.set_index('id')\n",
    "\n",
    "#Data Frame of Organizations in NC\n",
    "nc_organizations_df.head()"
   ]
  },
  {
   "cell_type": "code",
   "execution_count": null,
   "id": "916f1be6",
   "metadata": {},
   "outputs": [],
   "source": [
    "#Daily Schedule of organizations\n",
    "'''towns_df = pd.DataFrame(university_towns,\n",
    "...                         columns=['State', 'RegionName'])'''\n",
    "schedule_df = pd.DataFrame(nc_organizations_df, columns = ['Friday', 'Saturday', 'Sunday'])\n",
    "schedule_df"
   ]
  }
 ],
 "metadata": {
  "kernelspec": {
   "display_name": "Python 3 (ipykernel)",
   "language": "python",
   "name": "python3"
  },
  "language_info": {
   "codemirror_mode": {
    "name": "ipython",
    "version": 3
   },
   "file_extension": ".py",
   "mimetype": "text/x-python",
   "name": "python",
   "nbconvert_exporter": "python",
   "pygments_lexer": "ipython3",
   "version": "3.10.11"
  }
 },
 "nbformat": 4,
 "nbformat_minor": 5
}
